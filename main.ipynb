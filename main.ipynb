{
 "cells": [
  {
   "cell_type": "code",
   "execution_count": 1,
   "metadata": {},
   "outputs": [],
   "source": [
    "import pandas as pd\n",
    "import numpy as np\n",
    "import retrieval\n"
   ]
  },
  {
   "cell_type": "code",
   "execution_count": 2,
   "metadata": {},
   "outputs": [],
   "source": [
    "TICKER = \"PLTR\"\n",
    "start_date='2020-01-01'\n",
    "end_date='2024-01-01'"
   ]
  },
  {
   "cell_type": "code",
   "execution_count": 3,
   "metadata": {},
   "outputs": [
    {
     "name": "stderr",
     "output_type": "stream",
     "text": [
      "[*********************100%***********************]  1 of 1 completed\n"
     ]
    },
    {
     "data": {
      "text/html": [
       "<div>\n",
       "<style scoped>\n",
       "    .dataframe tbody tr th:only-of-type {\n",
       "        vertical-align: middle;\n",
       "    }\n",
       "\n",
       "    .dataframe tbody tr th {\n",
       "        vertical-align: top;\n",
       "    }\n",
       "\n",
       "    .dataframe thead th {\n",
       "        text-align: right;\n",
       "    }\n",
       "</style>\n",
       "<table border=\"1\" class=\"dataframe\">\n",
       "  <thead>\n",
       "    <tr style=\"text-align: right;\">\n",
       "      <th></th>\n",
       "      <th>Date</th>\n",
       "      <th>Open</th>\n",
       "      <th>High</th>\n",
       "      <th>Low</th>\n",
       "      <th>Close</th>\n",
       "      <th>Adj Close</th>\n",
       "      <th>Volume</th>\n",
       "      <th>Daily Return</th>\n",
       "      <th>Trend</th>\n",
       "    </tr>\n",
       "  </thead>\n",
       "  <tbody>\n",
       "    <tr>\n",
       "      <th>0</th>\n",
       "      <td>2020-09-30</td>\n",
       "      <td>10.00</td>\n",
       "      <td>11.41</td>\n",
       "      <td>9.11</td>\n",
       "      <td>9.50</td>\n",
       "      <td>9.50</td>\n",
       "      <td>338584400</td>\n",
       "      <td>0.000000</td>\n",
       "      <td>Insignificant Change</td>\n",
       "    </tr>\n",
       "    <tr>\n",
       "      <th>1</th>\n",
       "      <td>2020-10-01</td>\n",
       "      <td>9.69</td>\n",
       "      <td>10.10</td>\n",
       "      <td>9.23</td>\n",
       "      <td>9.46</td>\n",
       "      <td>9.46</td>\n",
       "      <td>124297600</td>\n",
       "      <td>-0.421052</td>\n",
       "      <td>Negative Change</td>\n",
       "    </tr>\n",
       "    <tr>\n",
       "      <th>2</th>\n",
       "      <td>2020-10-02</td>\n",
       "      <td>9.06</td>\n",
       "      <td>9.28</td>\n",
       "      <td>8.94</td>\n",
       "      <td>9.20</td>\n",
       "      <td>9.20</td>\n",
       "      <td>55018300</td>\n",
       "      <td>-2.748417</td>\n",
       "      <td>Negative Change</td>\n",
       "    </tr>\n",
       "    <tr>\n",
       "      <th>3</th>\n",
       "      <td>2020-10-05</td>\n",
       "      <td>9.43</td>\n",
       "      <td>9.49</td>\n",
       "      <td>8.92</td>\n",
       "      <td>9.03</td>\n",
       "      <td>9.03</td>\n",
       "      <td>36316900</td>\n",
       "      <td>-1.847827</td>\n",
       "      <td>Negative Change</td>\n",
       "    </tr>\n",
       "    <tr>\n",
       "      <th>4</th>\n",
       "      <td>2020-10-06</td>\n",
       "      <td>9.04</td>\n",
       "      <td>10.18</td>\n",
       "      <td>8.90</td>\n",
       "      <td>9.90</td>\n",
       "      <td>9.90</td>\n",
       "      <td>90864000</td>\n",
       "      <td>9.634551</td>\n",
       "      <td>Bull Run</td>\n",
       "    </tr>\n",
       "  </tbody>\n",
       "</table>\n",
       "</div>"
      ],
      "text/plain": [
       "        Date   Open   High   Low  Close  Adj Close     Volume  Daily Return  \\\n",
       "0 2020-09-30  10.00  11.41  9.11   9.50       9.50  338584400      0.000000   \n",
       "1 2020-10-01   9.69  10.10  9.23   9.46       9.46  124297600     -0.421052   \n",
       "2 2020-10-02   9.06   9.28  8.94   9.20       9.20   55018300     -2.748417   \n",
       "3 2020-10-05   9.43   9.49  8.92   9.03       9.03   36316900     -1.847827   \n",
       "4 2020-10-06   9.04  10.18  8.90   9.90       9.90   90864000      9.634551   \n",
       "\n",
       "                  Trend  \n",
       "0  Insignificant Change  \n",
       "1       Negative Change  \n",
       "2       Negative Change  \n",
       "3       Negative Change  \n",
       "4              Bull Run  "
      ]
     },
     "execution_count": 3,
     "metadata": {},
     "output_type": "execute_result"
    }
   ],
   "source": [
    "df = retrieval.single_stock(TICKER, start_date, end_date)\n",
    "df.head()"
   ]
  },
  {
   "cell_type": "code",
   "execution_count": null,
   "metadata": {},
   "outputs": [],
   "source": []
  }
 ],
 "metadata": {
  "kernelspec": {
   "display_name": ".venv",
   "language": "python",
   "name": "python3"
  },
  "language_info": {
   "codemirror_mode": {
    "name": "ipython",
    "version": 3
   },
   "file_extension": ".py",
   "mimetype": "text/x-python",
   "name": "python",
   "nbconvert_exporter": "python",
   "pygments_lexer": "ipython3",
   "version": "3.12.2"
  }
 },
 "nbformat": 4,
 "nbformat_minor": 2
}
